{
 "cells": [
  {
   "cell_type": "markdown",
   "id": "sporting-corporation",
   "metadata": {},
   "source": [
    "<h1>Exercise 1<h1>"
   ]
  },
  {
   "cell_type": "code",
   "execution_count": 1,
   "id": "ongoing-energy",
   "metadata": {},
   "outputs": [],
   "source": [
    "import random \n",
    "  \n",
    "# Function to create random binary string of length p\n",
    "def rand_key(p): \n",
    "    \n",
    "    # Variable to store in an array \n",
    "    key = []\n",
    "  \n",
    "    # Loop to find the string \n",
    "    # of desired length \n",
    "    for i in range(p): \n",
    "          \n",
    "        # randint function to generate \n",
    "        # 0, 1 randomly and add  \n",
    "        # the result into arry\n",
    "        key.append(random.randint(0, 1)) \n",
    "    return(key)       "
   ]
  },
  {
   "cell_type": "markdown",
   "id": "empirical-gravity",
   "metadata": {},
   "source": [
    "<h2>Question 1<h2>"
   ]
  },
  {
   "cell_type": "code",
   "execution_count": 2,
   "id": "sonic-commission",
   "metadata": {
    "scrolled": true
   },
   "outputs": [
    {
     "output_type": "stream",
     "name": "stdout",
     "text": [
      "B1:  0\nB2:  1\n"
     ]
    }
   ],
   "source": [
    "import numpy as np\n",
    "from scipy import linalg\n",
    "\n",
    "def dot_mod2(x, cn):\n",
    "    dot = np.dot(x, cn)\n",
    "    return dot % 2\n",
    "\n",
    "c1 = np.array([0,1,0,1,1])\n",
    "c2 = np.array([1,1,1,1,0])\n",
    "\n",
    "x = np.array([1,0,1,1,1])\n",
    "b1 = dot_mod2(x, c1)\n",
    "b2 = dot_mod2(x, c2)\n",
    "\n",
    "print(\"B1: \", b1)\n",
    "print(\"B2: \", b2)"
   ]
  },
  {
   "cell_type": "markdown",
   "id": "three-pricing",
   "metadata": {},
   "source": [
    "<h2>Question 2</h2>"
   ]
  },
  {
   "cell_type": "code",
   "execution_count": 3,
   "id": "painful-freight",
   "metadata": {},
   "outputs": [
    {
     "output_type": "stream",
     "name": "stdout",
     "text": [
      "Res:  [1 0 1 0 1]\n"
     ]
    }
   ],
   "source": [
    "def c_sum(cx, cy):\n",
    "    return np.bitwise_xor(cx, cy)\n",
    "\n",
    "c_r = c_sum(c1, c2)\n",
    "print(\"Res: \", c_r)"
   ]
  },
  {
   "cell_type": "markdown",
   "id": "biological-heather",
   "metadata": {},
   "source": [
    "c_r.x_r % 2 = (c1+c2).x_r = (c1.x_r % 2) + (c2.x_r % 2) = b1+b2 = 1"
   ]
  },
  {
   "cell_type": "markdown",
   "id": "numerous-building",
   "metadata": {},
   "source": [
    "<h2>Question 3</h2>"
   ]
  },
  {
   "cell_type": "code",
   "execution_count": 4,
   "id": "handy-deposit",
   "metadata": {},
   "outputs": [
    {
     "output_type": "stream",
     "name": "stdout",
     "text": [
      "[0]\n[0]\n"
     ]
    }
   ],
   "source": [
    "Ch = np.array([[1,1,0,0,1,1], \n",
    "               [1,0,1,0,1,0], \n",
    "               [1,1,1,0,1,1], \n",
    "               [0,0,1,1,0,0]])\n",
    "\n",
    "Bh = np.array([[0],\n",
    "               [0],\n",
    "               [1],\n",
    "               [1]])\n",
    "\n",
    "ca = np.array([0,1,1,0,0,1])\n",
    "cb = np.array([1,1,0,1,1,1])\n",
    "\n",
    "def get_known(c_known, b_known, c):\n",
    "    c_known_trans_inv = np.linalg.pinv(c_known.T)\n",
    "    weight = np.matmul(c_known_trans_inv, c.T)\n",
    "    weight = np.round(weight, 0).astype(int)\n",
    "    return dot_mod2(weight, b_known)\n",
    "\n",
    "print(get_known(Ch, Bh, ca))\n",
    "print(get_known(Ch, Bh, cb))"
   ]
  },
  {
   "cell_type": "markdown",
   "id": "desperate-uruguay",
   "metadata": {},
   "source": [
    "<h2>Question 4</h2>"
   ]
  },
  {
   "cell_type": "code",
   "execution_count": 5,
   "id": "downtown-europe",
   "metadata": {},
   "outputs": [
    {
     "output_type": "stream",
     "name": "stdout",
     "text": [
      "x:  [[1.]\n [0.]\n [1.]\n [0.]\n [0.]\n [1.]]\n"
     ]
    }
   ],
   "source": [
    "n_Ch = np.vstack((Ch, [[0,1,1,0,1,1], [1,1,0,1,0,0]]))\n",
    "\n",
    "n_b = np.vstack((Bh, [[0], [1]]))\n",
    "\n",
    "x = linalg.solve(n_Ch, n_b)\n",
    "print(\"x: \", np.mod(x, 2))"
   ]
  },
  {
   "cell_type": "markdown",
   "id": "noted-failure",
   "metadata": {},
   "source": [
    "<h1>Exercise 2</h1>"
   ]
  },
  {
   "cell_type": "markdown",
   "id": "cosmetic-career",
   "metadata": {},
   "source": [
    "<h2>Question 5</h2>"
   ]
  },
  {
   "cell_type": "code",
   "execution_count": 6,
   "id": "magnetic-lawyer",
   "metadata": {},
   "outputs": [
    {
     "output_type": "stream",
     "name": "stdout",
     "text": [
      "m: 148\nc: 23\n"
     ]
    },
    {
     "output_type": "display_data",
     "data": {
      "text/plain": "<Figure size 432x288 with 1 Axes>",
      "image/svg+xml": "<?xml version=\"1.0\" encoding=\"utf-8\" standalone=\"no\"?>\n<!DOCTYPE svg PUBLIC \"-//W3C//DTD SVG 1.1//EN\"\n  \"http://www.w3.org/Graphics/SVG/1.1/DTD/svg11.dtd\">\n<!-- Created with matplotlib (https://matplotlib.org/) -->\n<svg height=\"248.518125pt\" version=\"1.1\" viewBox=\"0 0 375.2875 248.518125\" width=\"375.2875pt\" xmlns=\"http://www.w3.org/2000/svg\" xmlns:xlink=\"http://www.w3.org/1999/xlink\">\n <metadata>\n  <rdf:RDF xmlns:cc=\"http://creativecommons.org/ns#\" xmlns:dc=\"http://purl.org/dc/elements/1.1/\" xmlns:rdf=\"http://www.w3.org/1999/02/22-rdf-syntax-ns#\">\n   <cc:Work>\n    <dc:type rdf:resource=\"http://purl.org/dc/dcmitype/StillImage\"/>\n    <dc:date>2021-08-07T22:26:06.388274</dc:date>\n    <dc:format>image/svg+xml</dc:format>\n    <dc:creator>\n     <cc:Agent>\n      <dc:title>Matplotlib v3.3.4, https://matplotlib.org/</dc:title>\n     </cc:Agent>\n    </dc:creator>\n   </cc:Work>\n  </rdf:RDF>\n </metadata>\n <defs>\n  <style type=\"text/css\">*{stroke-linecap:butt;stroke-linejoin:round;}</style>\n </defs>\n <g id=\"figure_1\">\n  <g id=\"patch_1\">\n   <path d=\"M 0 248.518125 \nL 375.2875 248.518125 \nL 375.2875 0 \nL 0 0 \nz\n\" style=\"fill:none;\"/>\n  </g>\n  <g id=\"axes_1\">\n   <g id=\"patch_2\">\n    <path d=\"M 33.2875 224.64 \nL 368.0875 224.64 \nL 368.0875 7.2 \nL 33.2875 7.2 \nz\n\" style=\"fill:#ffffff;\"/>\n   </g>\n   <g id=\"PathCollection_1\">\n    <defs>\n     <path d=\"M 0 3 \nC 0.795609 3 1.55874 2.683901 2.12132 2.12132 \nC 2.683901 1.55874 3 0.795609 3 0 \nC 3 -0.795609 2.683901 -1.55874 2.12132 -2.12132 \nC 1.55874 -2.683901 0.795609 -3 0 -3 \nC -0.795609 -3 -1.55874 -2.683901 -2.12132 -2.12132 \nC -2.683901 -1.55874 -3 -0.795609 -3 0 \nC -3 0.795609 -2.683901 1.55874 -2.12132 2.12132 \nC -1.55874 2.683901 -0.795609 3 0 3 \nz\n\" id=\"m89e84831f7\" style=\"stroke:#1f77b4;\"/>\n    </defs>\n    <g clip-path=\"url(#p3ca60ab687)\">\n     <use style=\"fill:#1f77b4;stroke:#1f77b4;\" x=\"112.878591\" xlink:href=\"#m89e84831f7\" y=\"184.036953\"/>\n     <use style=\"fill:#1f77b4;stroke:#1f77b4;\" x=\"149.250045\" xlink:href=\"#m89e84831f7\" y=\"144.135111\"/>\n     <use style=\"fill:#1f77b4;stroke:#1f77b4;\" x=\"136.010227\" xlink:href=\"#m89e84831f7\" y=\"156.322703\"/>\n     <use style=\"fill:#1f77b4;stroke:#1f77b4;\" x=\"279.593773\" xlink:href=\"#m89e84831f7\" y=\"46.133514\"/>\n     <use style=\"fill:#1f77b4;stroke:#1f77b4;\" x=\"351.651864\" xlink:href=\"#m89e84831f7\" y=\"31.274668\"/>\n    </g>\n   </g>\n   <g id=\"matplotlib.axis_1\">\n    <g id=\"xtick_1\">\n     <g id=\"line2d_1\">\n      <defs>\n       <path d=\"M 0 0 \nL 0 3.5 \n\" id=\"m587071546a\" style=\"stroke:#000000;stroke-width:0.8;\"/>\n      </defs>\n      <g>\n       <use style=\"stroke:#000000;stroke-width:0.8;\" x=\"48.505682\" xlink:href=\"#m587071546a\" y=\"224.64\"/>\n      </g>\n     </g>\n     <g id=\"text_1\">\n      <!-- 0.0 -->\n      <g transform=\"translate(40.554119 239.238437)scale(0.1 -0.1)\">\n       <defs>\n        <path d=\"M 31.78125 66.40625 \nQ 24.171875 66.40625 20.328125 58.90625 \nQ 16.5 51.421875 16.5 36.375 \nQ 16.5 21.390625 20.328125 13.890625 \nQ 24.171875 6.390625 31.78125 6.390625 \nQ 39.453125 6.390625 43.28125 13.890625 \nQ 47.125 21.390625 47.125 36.375 \nQ 47.125 51.421875 43.28125 58.90625 \nQ 39.453125 66.40625 31.78125 66.40625 \nz\nM 31.78125 74.21875 \nQ 44.046875 74.21875 50.515625 64.515625 \nQ 56.984375 54.828125 56.984375 36.375 \nQ 56.984375 17.96875 50.515625 8.265625 \nQ 44.046875 -1.421875 31.78125 -1.421875 \nQ 19.53125 -1.421875 13.0625 8.265625 \nQ 6.59375 17.96875 6.59375 36.375 \nQ 6.59375 54.828125 13.0625 64.515625 \nQ 19.53125 74.21875 31.78125 74.21875 \nz\n\" id=\"DejaVuSans-48\"/>\n        <path d=\"M 10.6875 12.40625 \nL 21 12.40625 \nL 21 0 \nL 10.6875 0 \nz\n\" id=\"DejaVuSans-46\"/>\n       </defs>\n       <use xlink:href=\"#DejaVuSans-48\"/>\n       <use x=\"63.623047\" xlink:href=\"#DejaVuSans-46\"/>\n       <use x=\"95.410156\" xlink:href=\"#DejaVuSans-48\"/>\n      </g>\n     </g>\n    </g>\n    <g id=\"xtick_2\">\n     <g id=\"line2d_2\">\n      <g>\n       <use style=\"stroke:#000000;stroke-width:0.8;\" x=\"86.551136\" xlink:href=\"#m587071546a\" y=\"224.64\"/>\n      </g>\n     </g>\n     <g id=\"text_2\">\n      <!-- 0.5 -->\n      <g transform=\"translate(78.599574 239.238437)scale(0.1 -0.1)\">\n       <defs>\n        <path d=\"M 10.796875 72.90625 \nL 49.515625 72.90625 \nL 49.515625 64.59375 \nL 19.828125 64.59375 \nL 19.828125 46.734375 \nQ 21.96875 47.46875 24.109375 47.828125 \nQ 26.265625 48.1875 28.421875 48.1875 \nQ 40.625 48.1875 47.75 41.5 \nQ 54.890625 34.8125 54.890625 23.390625 \nQ 54.890625 11.625 47.5625 5.09375 \nQ 40.234375 -1.421875 26.90625 -1.421875 \nQ 22.3125 -1.421875 17.546875 -0.640625 \nQ 12.796875 0.140625 7.71875 1.703125 \nL 7.71875 11.625 \nQ 12.109375 9.234375 16.796875 8.0625 \nQ 21.484375 6.890625 26.703125 6.890625 \nQ 35.15625 6.890625 40.078125 11.328125 \nQ 45.015625 15.765625 45.015625 23.390625 \nQ 45.015625 31 40.078125 35.4375 \nQ 35.15625 39.890625 26.703125 39.890625 \nQ 22.75 39.890625 18.8125 39.015625 \nQ 14.890625 38.140625 10.796875 36.28125 \nz\n\" id=\"DejaVuSans-53\"/>\n       </defs>\n       <use xlink:href=\"#DejaVuSans-48\"/>\n       <use x=\"63.623047\" xlink:href=\"#DejaVuSans-46\"/>\n       <use x=\"95.410156\" xlink:href=\"#DejaVuSans-53\"/>\n      </g>\n     </g>\n    </g>\n    <g id=\"xtick_3\">\n     <g id=\"line2d_3\">\n      <g>\n       <use style=\"stroke:#000000;stroke-width:0.8;\" x=\"124.596591\" xlink:href=\"#m587071546a\" y=\"224.64\"/>\n      </g>\n     </g>\n     <g id=\"text_3\">\n      <!-- 1.0 -->\n      <g transform=\"translate(116.645028 239.238437)scale(0.1 -0.1)\">\n       <defs>\n        <path d=\"M 12.40625 8.296875 \nL 28.515625 8.296875 \nL 28.515625 63.921875 \nL 10.984375 60.40625 \nL 10.984375 69.390625 \nL 28.421875 72.90625 \nL 38.28125 72.90625 \nL 38.28125 8.296875 \nL 54.390625 8.296875 \nL 54.390625 0 \nL 12.40625 0 \nz\n\" id=\"DejaVuSans-49\"/>\n       </defs>\n       <use xlink:href=\"#DejaVuSans-49\"/>\n       <use x=\"63.623047\" xlink:href=\"#DejaVuSans-46\"/>\n       <use x=\"95.410156\" xlink:href=\"#DejaVuSans-48\"/>\n      </g>\n     </g>\n    </g>\n    <g id=\"xtick_4\">\n     <g id=\"line2d_4\">\n      <g>\n       <use style=\"stroke:#000000;stroke-width:0.8;\" x=\"162.642045\" xlink:href=\"#m587071546a\" y=\"224.64\"/>\n      </g>\n     </g>\n     <g id=\"text_4\">\n      <!-- 1.5 -->\n      <g transform=\"translate(154.690483 239.238437)scale(0.1 -0.1)\">\n       <use xlink:href=\"#DejaVuSans-49\"/>\n       <use x=\"63.623047\" xlink:href=\"#DejaVuSans-46\"/>\n       <use x=\"95.410156\" xlink:href=\"#DejaVuSans-53\"/>\n      </g>\n     </g>\n    </g>\n    <g id=\"xtick_5\">\n     <g id=\"line2d_5\">\n      <g>\n       <use style=\"stroke:#000000;stroke-width:0.8;\" x=\"200.6875\" xlink:href=\"#m587071546a\" y=\"224.64\"/>\n      </g>\n     </g>\n     <g id=\"text_5\">\n      <!-- 2.0 -->\n      <g transform=\"translate(192.735938 239.238437)scale(0.1 -0.1)\">\n       <defs>\n        <path d=\"M 19.1875 8.296875 \nL 53.609375 8.296875 \nL 53.609375 0 \nL 7.328125 0 \nL 7.328125 8.296875 \nQ 12.9375 14.109375 22.625 23.890625 \nQ 32.328125 33.6875 34.8125 36.53125 \nQ 39.546875 41.84375 41.421875 45.53125 \nQ 43.3125 49.21875 43.3125 52.78125 \nQ 43.3125 58.59375 39.234375 62.25 \nQ 35.15625 65.921875 28.609375 65.921875 \nQ 23.96875 65.921875 18.8125 64.3125 \nQ 13.671875 62.703125 7.8125 59.421875 \nL 7.8125 69.390625 \nQ 13.765625 71.78125 18.9375 73 \nQ 24.125 74.21875 28.421875 74.21875 \nQ 39.75 74.21875 46.484375 68.546875 \nQ 53.21875 62.890625 53.21875 53.421875 \nQ 53.21875 48.921875 51.53125 44.890625 \nQ 49.859375 40.875 45.40625 35.40625 \nQ 44.1875 33.984375 37.640625 27.21875 \nQ 31.109375 20.453125 19.1875 8.296875 \nz\n\" id=\"DejaVuSans-50\"/>\n       </defs>\n       <use xlink:href=\"#DejaVuSans-50\"/>\n       <use x=\"63.623047\" xlink:href=\"#DejaVuSans-46\"/>\n       <use x=\"95.410156\" xlink:href=\"#DejaVuSans-48\"/>\n      </g>\n     </g>\n    </g>\n    <g id=\"xtick_6\">\n     <g id=\"line2d_6\">\n      <g>\n       <use style=\"stroke:#000000;stroke-width:0.8;\" x=\"238.732955\" xlink:href=\"#m587071546a\" y=\"224.64\"/>\n      </g>\n     </g>\n     <g id=\"text_6\">\n      <!-- 2.5 -->\n      <g transform=\"translate(230.781392 239.238437)scale(0.1 -0.1)\">\n       <use xlink:href=\"#DejaVuSans-50\"/>\n       <use x=\"63.623047\" xlink:href=\"#DejaVuSans-46\"/>\n       <use x=\"95.410156\" xlink:href=\"#DejaVuSans-53\"/>\n      </g>\n     </g>\n    </g>\n    <g id=\"xtick_7\">\n     <g id=\"line2d_7\">\n      <g>\n       <use style=\"stroke:#000000;stroke-width:0.8;\" x=\"276.778409\" xlink:href=\"#m587071546a\" y=\"224.64\"/>\n      </g>\n     </g>\n     <g id=\"text_7\">\n      <!-- 3.0 -->\n      <g transform=\"translate(268.826847 239.238437)scale(0.1 -0.1)\">\n       <defs>\n        <path d=\"M 40.578125 39.3125 \nQ 47.65625 37.796875 51.625 33 \nQ 55.609375 28.21875 55.609375 21.1875 \nQ 55.609375 10.40625 48.1875 4.484375 \nQ 40.765625 -1.421875 27.09375 -1.421875 \nQ 22.515625 -1.421875 17.65625 -0.515625 \nQ 12.796875 0.390625 7.625 2.203125 \nL 7.625 11.71875 \nQ 11.71875 9.328125 16.59375 8.109375 \nQ 21.484375 6.890625 26.8125 6.890625 \nQ 36.078125 6.890625 40.9375 10.546875 \nQ 45.796875 14.203125 45.796875 21.1875 \nQ 45.796875 27.640625 41.28125 31.265625 \nQ 36.765625 34.90625 28.71875 34.90625 \nL 20.21875 34.90625 \nL 20.21875 43.015625 \nL 29.109375 43.015625 \nQ 36.375 43.015625 40.234375 45.921875 \nQ 44.09375 48.828125 44.09375 54.296875 \nQ 44.09375 59.90625 40.109375 62.90625 \nQ 36.140625 65.921875 28.71875 65.921875 \nQ 24.65625 65.921875 20.015625 65.03125 \nQ 15.375 64.15625 9.8125 62.3125 \nL 9.8125 71.09375 \nQ 15.4375 72.65625 20.34375 73.4375 \nQ 25.25 74.21875 29.59375 74.21875 \nQ 40.828125 74.21875 47.359375 69.109375 \nQ 53.90625 64.015625 53.90625 55.328125 \nQ 53.90625 49.265625 50.4375 45.09375 \nQ 46.96875 40.921875 40.578125 39.3125 \nz\n\" id=\"DejaVuSans-51\"/>\n       </defs>\n       <use xlink:href=\"#DejaVuSans-51\"/>\n       <use x=\"63.623047\" xlink:href=\"#DejaVuSans-46\"/>\n       <use x=\"95.410156\" xlink:href=\"#DejaVuSans-48\"/>\n      </g>\n     </g>\n    </g>\n    <g id=\"xtick_8\">\n     <g id=\"line2d_8\">\n      <g>\n       <use style=\"stroke:#000000;stroke-width:0.8;\" x=\"314.823864\" xlink:href=\"#m587071546a\" y=\"224.64\"/>\n      </g>\n     </g>\n     <g id=\"text_8\">\n      <!-- 3.5 -->\n      <g transform=\"translate(306.872301 239.238437)scale(0.1 -0.1)\">\n       <use xlink:href=\"#DejaVuSans-51\"/>\n       <use x=\"63.623047\" xlink:href=\"#DejaVuSans-46\"/>\n       <use x=\"95.410156\" xlink:href=\"#DejaVuSans-53\"/>\n      </g>\n     </g>\n    </g>\n    <g id=\"xtick_9\">\n     <g id=\"line2d_9\">\n      <g>\n       <use style=\"stroke:#000000;stroke-width:0.8;\" x=\"352.869318\" xlink:href=\"#m587071546a\" y=\"224.64\"/>\n      </g>\n     </g>\n     <g id=\"text_9\">\n      <!-- 4.0 -->\n      <g transform=\"translate(344.917756 239.238437)scale(0.1 -0.1)\">\n       <defs>\n        <path d=\"M 37.796875 64.3125 \nL 12.890625 25.390625 \nL 37.796875 25.390625 \nz\nM 35.203125 72.90625 \nL 47.609375 72.90625 \nL 47.609375 25.390625 \nL 58.015625 25.390625 \nL 58.015625 17.1875 \nL 47.609375 17.1875 \nL 47.609375 0 \nL 37.796875 0 \nL 37.796875 17.1875 \nL 4.890625 17.1875 \nL 4.890625 26.703125 \nz\n\" id=\"DejaVuSans-52\"/>\n       </defs>\n       <use xlink:href=\"#DejaVuSans-52\"/>\n       <use x=\"63.623047\" xlink:href=\"#DejaVuSans-46\"/>\n       <use x=\"95.410156\" xlink:href=\"#DejaVuSans-48\"/>\n      </g>\n     </g>\n    </g>\n   </g>\n   <g id=\"matplotlib.axis_2\">\n    <g id=\"ytick_1\">\n     <g id=\"line2d_10\">\n      <defs>\n       <path d=\"M 0 0 \nL -3.5 0 \n\" id=\"me9613365e5\" style=\"stroke:#000000;stroke-width:0.8;\"/>\n      </defs>\n      <g>\n       <use style=\"stroke:#000000;stroke-width:0.8;\" x=\"33.2875\" xlink:href=\"#me9613365e5\" y=\"222.436216\"/>\n      </g>\n     </g>\n     <g id=\"text_10\">\n      <!-- 0 -->\n      <g transform=\"translate(19.925 226.235435)scale(0.1 -0.1)\">\n       <use xlink:href=\"#DejaVuSans-48\"/>\n      </g>\n     </g>\n    </g>\n    <g id=\"ytick_2\">\n     <g id=\"line2d_11\">\n      <g>\n       <use style=\"stroke:#000000;stroke-width:0.8;\" x=\"33.2875\" xlink:href=\"#me9613365e5\" y=\"189.045553\"/>\n      </g>\n     </g>\n     <g id=\"text_11\">\n      <!-- 100 -->\n      <g transform=\"translate(7.2 192.844772)scale(0.1 -0.1)\">\n       <use xlink:href=\"#DejaVuSans-49\"/>\n       <use x=\"63.623047\" xlink:href=\"#DejaVuSans-48\"/>\n       <use x=\"127.246094\" xlink:href=\"#DejaVuSans-48\"/>\n      </g>\n     </g>\n    </g>\n    <g id=\"ytick_3\">\n     <g id=\"line2d_12\">\n      <g>\n       <use style=\"stroke:#000000;stroke-width:0.8;\" x=\"33.2875\" xlink:href=\"#me9613365e5\" y=\"155.654889\"/>\n      </g>\n     </g>\n     <g id=\"text_12\">\n      <!-- 200 -->\n      <g transform=\"translate(7.2 159.454108)scale(0.1 -0.1)\">\n       <use xlink:href=\"#DejaVuSans-50\"/>\n       <use x=\"63.623047\" xlink:href=\"#DejaVuSans-48\"/>\n       <use x=\"127.246094\" xlink:href=\"#DejaVuSans-48\"/>\n      </g>\n     </g>\n    </g>\n    <g id=\"ytick_4\">\n     <g id=\"line2d_13\">\n      <g>\n       <use style=\"stroke:#000000;stroke-width:0.8;\" x=\"33.2875\" xlink:href=\"#me9613365e5\" y=\"122.264226\"/>\n      </g>\n     </g>\n     <g id=\"text_13\">\n      <!-- 300 -->\n      <g transform=\"translate(7.2 126.063445)scale(0.1 -0.1)\">\n       <use xlink:href=\"#DejaVuSans-51\"/>\n       <use x=\"63.623047\" xlink:href=\"#DejaVuSans-48\"/>\n       <use x=\"127.246094\" xlink:href=\"#DejaVuSans-48\"/>\n      </g>\n     </g>\n    </g>\n    <g id=\"ytick_5\">\n     <g id=\"line2d_14\">\n      <g>\n       <use style=\"stroke:#000000;stroke-width:0.8;\" x=\"33.2875\" xlink:href=\"#me9613365e5\" y=\"88.873563\"/>\n      </g>\n     </g>\n     <g id=\"text_14\">\n      <!-- 400 -->\n      <g transform=\"translate(7.2 92.672781)scale(0.1 -0.1)\">\n       <use xlink:href=\"#DejaVuSans-52\"/>\n       <use x=\"63.623047\" xlink:href=\"#DejaVuSans-48\"/>\n       <use x=\"127.246094\" xlink:href=\"#DejaVuSans-48\"/>\n      </g>\n     </g>\n    </g>\n    <g id=\"ytick_6\">\n     <g id=\"line2d_15\">\n      <g>\n       <use style=\"stroke:#000000;stroke-width:0.8;\" x=\"33.2875\" xlink:href=\"#me9613365e5\" y=\"55.482899\"/>\n      </g>\n     </g>\n     <g id=\"text_15\">\n      <!-- 500 -->\n      <g transform=\"translate(7.2 59.282118)scale(0.1 -0.1)\">\n       <use xlink:href=\"#DejaVuSans-53\"/>\n       <use x=\"63.623047\" xlink:href=\"#DejaVuSans-48\"/>\n       <use x=\"127.246094\" xlink:href=\"#DejaVuSans-48\"/>\n      </g>\n     </g>\n    </g>\n    <g id=\"ytick_7\">\n     <g id=\"line2d_16\">\n      <g>\n       <use style=\"stroke:#000000;stroke-width:0.8;\" x=\"33.2875\" xlink:href=\"#me9613365e5\" y=\"22.092236\"/>\n      </g>\n     </g>\n     <g id=\"text_16\">\n      <!-- 600 -->\n      <g transform=\"translate(7.2 25.891455)scale(0.1 -0.1)\">\n       <defs>\n        <path d=\"M 33.015625 40.375 \nQ 26.375 40.375 22.484375 35.828125 \nQ 18.609375 31.296875 18.609375 23.390625 \nQ 18.609375 15.53125 22.484375 10.953125 \nQ 26.375 6.390625 33.015625 6.390625 \nQ 39.65625 6.390625 43.53125 10.953125 \nQ 47.40625 15.53125 47.40625 23.390625 \nQ 47.40625 31.296875 43.53125 35.828125 \nQ 39.65625 40.375 33.015625 40.375 \nz\nM 52.59375 71.296875 \nL 52.59375 62.3125 \nQ 48.875 64.0625 45.09375 64.984375 \nQ 41.3125 65.921875 37.59375 65.921875 \nQ 27.828125 65.921875 22.671875 59.328125 \nQ 17.53125 52.734375 16.796875 39.40625 \nQ 19.671875 43.65625 24.015625 45.921875 \nQ 28.375 48.1875 33.59375 48.1875 \nQ 44.578125 48.1875 50.953125 41.515625 \nQ 57.328125 34.859375 57.328125 23.390625 \nQ 57.328125 12.15625 50.6875 5.359375 \nQ 44.046875 -1.421875 33.015625 -1.421875 \nQ 20.359375 -1.421875 13.671875 8.265625 \nQ 6.984375 17.96875 6.984375 36.375 \nQ 6.984375 53.65625 15.1875 63.9375 \nQ 23.390625 74.21875 37.203125 74.21875 \nQ 40.921875 74.21875 44.703125 73.484375 \nQ 48.484375 72.75 52.59375 71.296875 \nz\n\" id=\"DejaVuSans-54\"/>\n       </defs>\n       <use xlink:href=\"#DejaVuSans-54\"/>\n       <use x=\"63.623047\" xlink:href=\"#DejaVuSans-48\"/>\n       <use x=\"127.246094\" xlink:href=\"#DejaVuSans-48\"/>\n      </g>\n     </g>\n    </g>\n   </g>\n   <g id=\"line2d_17\">\n    <path clip-path=\"url(#p3ca60ab687)\" d=\"M 48.505682 214.756364 \nL 124.596591 165.338182 \nL 200.6875 115.92 \nL 276.778409 66.501818 \nL 352.869318 17.083636 \n\" style=\"fill:none;stroke:#ff0000;stroke-linecap:square;stroke-width:4;\"/>\n   </g>\n   <g id=\"patch_3\">\n    <path d=\"M 33.2875 224.64 \nL 33.2875 7.2 \n\" style=\"fill:none;stroke:#000000;stroke-linecap:square;stroke-linejoin:miter;stroke-width:0.8;\"/>\n   </g>\n   <g id=\"patch_4\">\n    <path d=\"M 368.0875 224.64 \nL 368.0875 7.2 \n\" style=\"fill:none;stroke:#000000;stroke-linecap:square;stroke-linejoin:miter;stroke-width:0.8;\"/>\n   </g>\n   <g id=\"patch_5\">\n    <path d=\"M 33.2875 224.64 \nL 368.0875 224.64 \n\" style=\"fill:none;stroke:#000000;stroke-linecap:square;stroke-linejoin:miter;stroke-width:0.8;\"/>\n   </g>\n   <g id=\"patch_6\">\n    <path d=\"M 33.2875 7.2 \nL 368.0875 7.2 \n\" style=\"fill:none;stroke:#000000;stroke-linecap:square;stroke-linejoin:miter;stroke-width:0.8;\"/>\n   </g>\n  </g>\n </g>\n <defs>\n  <clipPath id=\"p3ca60ab687\">\n   <rect height=\"217.44\" width=\"334.8\" x=\"33.2875\" y=\"7.2\"/>\n  </clipPath>\n </defs>\n</svg>\n",
      "image/png": "[encoded data removed]"
     },
     "metadata": {
      "needs_background": "light"
     }
    }
   ],
   "source": [
    "n = 5\n",
    "x1 = np.array([0.846, 1.324, 1.15, 3.037, 3.984])\n",
    "y = np.array([115, 234.5, 198, 528, 572.5])\n",
    "sum_of_x = sum_of_x2 = sum_of_y = sum_of_xy = 0\n",
    "\n",
    "for i in range(0, n):\n",
    "    temp_x = float(x1[i])\n",
    "    temp_y = float(y[i])\n",
    "    sum_of_x += temp_x\n",
    "    sum_of_x2 += temp_x**2\n",
    "    sum_of_y += temp_y\n",
    "    sum_of_xy += (temp_x * temp_y)\n",
    "    \n",
    "A = np.array([[sum_of_x2, sum_of_x],\n",
    "              [sum_of_x,  n]])\n",
    "\n",
    "b = np.array([[sum_of_xy], [sum_of_y]])\n",
    "\n",
    "# A^-1\n",
    "inv_A = np.linalg.inv(A)\n",
    "# x = A^-1 * b\n",
    "matrix_x = np.matmul(inv_A, b)\n",
    "m = int(matrix_x[0])\n",
    "c = int(matrix_x[1])\n",
    "print(\"m: {}\\nc: {}\".format(m, c))\n",
    "\n",
    "import matplotlib.pyplot as plt\n",
    "\n",
    "xs = np.linspace(0, 4, 5)\n",
    "ys = c + m * xs\n",
    "plt.plot(xs, ys, \"r\", linewidth = 4)\n",
    "plt.scatter(x1, y)\n",
    "plt.show()"
   ]
  },
  {
   "cell_type": "markdown",
   "id": "enclosed-coalition",
   "metadata": {},
   "source": [
    "<h2>Question 6</h2>"
   ]
  },
  {
   "cell_type": "code",
   "execution_count": 7,
   "id": "about-prediction",
   "metadata": {},
   "outputs": [
    {
     "output_type": "stream",
     "name": "stdout",
     "text": [
      "Vector a:  [  9.97566234 130.67172705  16.45635726]\n"
     ]
    }
   ],
   "source": [
    "x2 = np.array([1, 2, 3, 4, 5])\n",
    "\n",
    "X = np.vstack([[1, float(x1[0]), 1], \n",
    "               [1, float(x1[1]), 2],\n",
    "               [1, float(x1[2]), 3],\n",
    "               [1, float(x1[3]), 4],\n",
    "               [1, float(x1[4]), 5]])\n",
    "\n",
    "Xt = np.transpose(X)\n",
    "\n",
    "Xt_X = np.matmul(Xt, X)\n",
    "Xt_y = np.matmul(Xt, y)\n",
    "\n",
    "a = linalg.solve(Xt_X, Xt_y)\n",
    "print(\"Vector a: \", a.ravel())"
   ]
  },
  {
   "cell_type": "code",
   "execution_count": 8,
   "id": "finite-victor",
   "metadata": {},
   "outputs": [
    {
     "output_type": "stream",
     "name": "stdout",
     "text": [
      "Predicted price for house 1: $136980.3\nPredicted price for house 2: $215897.74\nPredicted price for house 3: $209617.22\nPredicted price for house 4: $472651.13\nPredicted price for house 5: $612853.61\n"
     ]
    },
    {
     "output_type": "display_data",
     "data": {
      "text/plain": "<Figure size 432x288 with 1 Axes>",
      "image/svg+xml": "<?xml version=\"1.0\" encoding=\"utf-8\" standalone=\"no\"?>\n<!DOCTYPE svg PUBLIC \"-//W3C//DTD SVG 1.1//EN\"\n  \"http://www.w3.org/Graphics/SVG/1.1/DTD/svg11.dtd\">\n<!-- Created with matplotlib (https://matplotlib.org/) -->\n<svg height=\"241.762917pt\" version=\"1.1\" viewBox=\"0 0 249.336994 241.762917\" width=\"249.336994pt\" xmlns=\"http://www.w3.org/2000/svg\" xmlns:xlink=\"http://www.w3.org/1999/xlink\">\n <metadata>\n  <rdf:RDF xmlns:cc=\"http://creativecommons.org/ns#\" xmlns:dc=\"http://purl.org/dc/elements/1.1/\" xmlns:rdf=\"http://www.w3.org/1999/02/22-rdf-syntax-ns#\">\n   <cc:Work>\n    <dc:type rdf:resource=\"http://purl.org/dc/dcmitype/StillImage\"/>\n    <dc:date>2021-08-07T22:26:17.281351</dc:date>\n    <dc:format>image/svg+xml</dc:format>\n    <dc:creator>\n     <cc:Agent>\n      <dc:title>Matplotlib v3.3.4, https://matplotlib.org/</dc:title>\n     </cc:Agent>\n    </dc:creator>\n   </cc:Work>\n  </rdf:RDF>\n </metadata>\n <defs>\n  <style type=\"text/css\">*{stroke-linecap:butt;stroke-linejoin:round;}</style>\n </defs>\n <g id=\"figure_1\">\n  <g id=\"patch_1\">\n   <path d=\"M 0 241.762917 \nL 249.336994 241.762917 \nL 249.336994 0 \nL 0 0 \nz\n\" style=\"fill:none;\"/>\n  </g>\n  <g id=\"patch_2\">\n   <path d=\"M 7.2 224.64 \nL 224.64 224.64 \nL 224.64 7.2 \nL 7.2 7.2 \nz\n\" style=\"fill:#ffffff;\"/>\n  </g>\n  <g id=\"pane3d_1\">\n   <g id=\"patch_3\">\n    <path d=\"M 23.61822 171.026264 \nL 95.424009 110.837228 \nL 94.42584 24.033878 \nL 19.183773 78.942111 \n\" style=\"fill:#f2f2f2;opacity:0.5;stroke:#f2f2f2;stroke-linejoin:miter;\"/>\n   </g>\n  </g>\n  <g id=\"pane3d_2\">\n   <g id=\"patch_4\">\n    <path d=\"M 95.424009 110.837228 \nL 210.64668 144.32791 \nL 214.758571 54.534718 \nL 94.42584 24.033878 \n\" style=\"fill:#e6e6e6;opacity:0.5;stroke:#e6e6e6;stroke-linejoin:miter;\"/>\n   </g>\n  </g>\n  <g id=\"pane3d_3\">\n   <g id=\"patch_5\">\n    <path d=\"M 23.61822 171.026264 \nL 145.759879 210.91773 \nL 210.64668 144.32791 \nL 95.424009 110.837228 \n\" style=\"fill:#ececec;opacity:0.5;stroke:#ececec;stroke-linejoin:miter;\"/>\n   </g>\n  </g>\n  <g id=\"axis3d_1\">\n   <g id=\"line2d_1\">\n    <path d=\"M 23.61822 171.026264 \nL 145.759879 210.91773 \n\" style=\"fill:none;stroke:#000000;stroke-linecap:square;stroke-width:0.8;\"/>\n   </g>\n   <g id=\"Line3DCollection_1\">\n    <path d=\"M 31.015759 173.442301 \nL 102.431499 112.874029 \nL 101.729612 25.885171 \n\" style=\"fill:none;stroke:#b0b0b0;stroke-width:0.8;\"/>\n    <path d=\"M 51.557499 180.151233 \nL 121.87046 118.524167 \nL 122.000278 31.023194 \n\" style=\"fill:none;stroke:#b0b0b0;stroke-width:0.8;\"/>\n    <path d=\"M 72.475602 186.983086 \nL 141.635901 124.269201 \nL 142.626195 36.251263 \n\" style=\"fill:none;stroke:#b0b0b0;stroke-width:0.8;\"/>\n    <path d=\"M 93.780508 193.941268 \nL 161.736116 130.111539 \nL 163.616782 41.571765 \n\" style=\"fill:none;stroke:#b0b0b0;stroke-width:0.8;\"/>\n    <path d=\"M 115.483044 201.029316 \nL 182.179682 136.053677 \nL 184.981798 46.987173 \n\" style=\"fill:none;stroke:#b0b0b0;stroke-width:0.8;\"/>\n    <path d=\"M 137.594449 208.250901 \nL 202.975474 142.098193 \nL 206.73135 52.500051 \n\" style=\"fill:none;stroke:#b0b0b0;stroke-width:0.8;\"/>\n   </g>\n   <g id=\"xtick_1\">\n    <g id=\"line2d_2\">\n     <path d=\"M 31.637644 172.914876 \nL 29.769322 174.499414 \n\" style=\"fill:none;stroke:#000000;stroke-linecap:square;stroke-width:0.8;\"/>\n    </g>\n    <g id=\"text_1\">\n     <!-- 0 -->\n     <g transform=\"translate(20.29919 196.764533)scale(0.1 -0.1)\">\n      <defs>\n       <path d=\"M 31.78125 66.40625 \nQ 24.171875 66.40625 20.328125 58.90625 \nQ 16.5 51.421875 16.5 36.375 \nQ 16.5 21.390625 20.328125 13.890625 \nQ 24.171875 6.390625 31.78125 6.390625 \nQ 39.453125 6.390625 43.28125 13.890625 \nQ 47.125 21.390625 47.125 36.375 \nQ 47.125 51.421875 43.28125 58.90625 \nQ 39.453125 66.40625 31.78125 66.40625 \nz\nM 31.78125 74.21875 \nQ 44.046875 74.21875 50.515625 64.515625 \nQ 56.984375 54.828125 56.984375 36.375 \nQ 56.984375 17.96875 50.515625 8.265625 \nQ 44.046875 -1.421875 31.78125 -1.421875 \nQ 19.53125 -1.421875 13.0625 8.265625 \nQ 6.59375 17.96875 6.59375 36.375 \nQ 6.59375 54.828125 13.0625 64.515625 \nQ 19.53125 74.21875 31.78125 74.21875 \nz\n\" id=\"DejaVuSans-48\"/>\n      </defs>\n      <use xlink:href=\"#DejaVuSans-48\"/>\n     </g>\n    </g>\n   </g>\n   <g id=\"xtick_2\">\n    <g id=\"line2d_3\">\n     <path d=\"M 52.170232 179.614192 \nL 50.32938 181.22764 \n\" style=\"fill:none;stroke:#000000;stroke-linecap:square;stroke-width:0.8;\"/>\n    </g>\n    <g id=\"text_2\">\n     <!-- 1 -->\n     <g transform=\"translate(40.866594 203.647684)scale(0.1 -0.1)\">\n      <defs>\n       <path d=\"M 12.40625 8.296875 \nL 28.515625 8.296875 \nL 28.515625 63.921875 \nL 10.984375 60.40625 \nL 10.984375 69.390625 \nL 28.421875 72.90625 \nL 38.28125 72.90625 \nL 38.28125 8.296875 \nL 54.390625 8.296875 \nL 54.390625 0 \nL 12.40625 0 \nz\n\" id=\"DejaVuSans-49\"/>\n      </defs>\n      <use xlink:href=\"#DejaVuSans-49\"/>\n     </g>\n    </g>\n   </g>\n   <g id=\"xtick_3\">\n    <g id=\"line2d_4\">\n     <path d=\"M 73.078743 186.436164 \nL 71.266686 188.079319 \n\" style=\"fill:none;stroke:#000000;stroke-linecap:square;stroke-width:0.8;\"/>\n    </g>\n    <g id=\"text_3\">\n     <!-- 2 -->\n     <g transform=\"translate(61.812578 210.657531)scale(0.1 -0.1)\">\n      <defs>\n       <path d=\"M 19.1875 8.296875 \nL 53.609375 8.296875 \nL 53.609375 0 \nL 7.328125 0 \nL 7.328125 8.296875 \nQ 12.9375 14.109375 22.625 23.890625 \nQ 32.328125 33.6875 34.8125 36.53125 \nQ 39.546875 41.84375 41.421875 45.53125 \nQ 43.3125 49.21875 43.3125 52.78125 \nQ 43.3125 58.59375 39.234375 62.25 \nQ 35.15625 65.921875 28.609375 65.921875 \nQ 23.96875 65.921875 18.8125 64.3125 \nQ 13.671875 62.703125 7.8125 59.421875 \nL 7.8125 69.390625 \nQ 13.765625 71.78125 18.9375 73 \nQ 24.125 74.21875 28.421875 74.21875 \nQ 39.75 74.21875 46.484375 68.546875 \nQ 53.21875 62.890625 53.21875 53.421875 \nQ 53.21875 48.921875 51.53125 44.890625 \nQ 49.859375 40.875 45.40625 35.40625 \nQ 44.1875 33.984375 37.640625 27.21875 \nQ 31.109375 20.453125 19.1875 8.296875 \nz\n\" id=\"DejaVuSans-50\"/>\n      </defs>\n      <use xlink:href=\"#DejaVuSans-50\"/>\n     </g>\n    </g>\n   </g>\n   <g id=\"xtick_4\">\n    <g id=\"line2d_5\">\n     <path d=\"M 94.373595 193.384189 \nL 92.591718 195.057881 \n\" style=\"fill:none;stroke:#000000;stroke-linecap:square;stroke-width:0.8;\"/>\n    </g>\n    <g id=\"text_4\">\n     <!-- 3 -->\n     <g transform=\"translate(83.147693 217.797606)scale(0.1 -0.1)\">\n      <defs>\n       <path d=\"M 40.578125 39.3125 \nQ 47.65625 37.796875 51.625 33 \nQ 55.609375 28.21875 55.609375 21.1875 \nQ 55.609375 10.40625 48.1875 4.484375 \nQ 40.765625 -1.421875 27.09375 -1.421875 \nQ 22.515625 -1.421875 17.65625 -0.515625 \nQ 12.796875 0.390625 7.625 2.203125 \nL 7.625 11.71875 \nQ 11.71875 9.328125 16.59375 8.109375 \nQ 21.484375 6.890625 26.8125 6.890625 \nQ 36.078125 6.890625 40.9375 10.546875 \nQ 45.796875 14.203125 45.796875 21.1875 \nQ 45.796875 27.640625 41.28125 31.265625 \nQ 36.765625 34.90625 28.71875 34.90625 \nL 20.21875 34.90625 \nL 20.21875 43.015625 \nL 29.109375 43.015625 \nQ 36.375 43.015625 40.234375 45.921875 \nQ 44.09375 48.828125 44.09375 54.296875 \nQ 44.09375 59.90625 40.109375 62.90625 \nQ 36.140625 65.921875 28.71875 65.921875 \nQ 24.65625 65.921875 20.015625 65.03125 \nQ 15.375 64.15625 9.8125 62.3125 \nL 9.8125 71.09375 \nQ 15.4375 72.65625 20.34375 73.4375 \nQ 25.25 74.21875 29.59375 74.21875 \nQ 40.828125 74.21875 47.359375 69.109375 \nQ 53.90625 64.015625 53.90625 55.328125 \nQ 53.90625 49.265625 50.4375 45.09375 \nQ 46.96875 40.921875 40.578125 39.3125 \nz\n\" id=\"DejaVuSans-51\"/>\n      </defs>\n      <use xlink:href=\"#DejaVuSans-51\"/>\n     </g>\n    </g>\n   </g>\n   <g id=\"xtick_5\">\n    <g id=\"line2d_6\">\n     <path d=\"M 116.065596 200.461796 \nL 114.315348 202.166882 \n\" style=\"fill:none;stroke:#000000;stroke-linecap:square;stroke-width:0.8;\"/>\n    </g>\n    <g id=\"text_5\">\n     <!-- 4 -->\n     <g transform=\"translate(104.882884 225.071572)scale(0.1 -0.1)\">\n      <defs>\n       <path d=\"M 37.796875 64.3125 \nL 12.890625 25.390625 \nL 37.796875 25.390625 \nz\nM 35.203125 72.90625 \nL 47.609375 72.90625 \nL 47.609375 25.390625 \nL 58.015625 25.390625 \nL 58.015625 17.1875 \nL 47.609375 17.1875 \nL 47.609375 0 \nL 37.796875 0 \nL 37.796875 17.1875 \nL 4.890625 17.1875 \nL 4.890625 26.703125 \nz\n\" id=\"DejaVuSans-52\"/>\n      </defs>\n      <use xlink:href=\"#DejaVuSans-52\"/>\n     </g>\n    </g>\n   </g>\n   <g id=\"xtick_6\">\n    <g id=\"line2d_7\">\n     <path d=\"M 138.165962 207.672643 \nL 136.448856 209.410015 \n\" style=\"fill:none;stroke:#000000;stroke-linecap:square;stroke-width:0.8;\"/>\n    </g>\n    <g id=\"text_6\">\n     <!-- 5 -->\n     <g transform=\"translate(127.029511 232.48323)scale(0.1 -0.1)\">\n      <defs>\n       <path d=\"M 10.796875 72.90625 \nL 49.515625 72.90625 \nL 49.515625 64.59375 \nL 19.828125 64.59375 \nL 19.828125 46.734375 \nQ 21.96875 47.46875 24.109375 47.828125 \nQ 26.265625 48.1875 28.421875 48.1875 \nQ 40.625 48.1875 47.75 41.5 \nQ 54.890625 34.8125 54.890625 23.390625 \nQ 54.890625 11.625 47.5625 5.09375 \nQ 40.234375 -1.421875 26.90625 -1.421875 \nQ 22.3125 -1.421875 17.546875 -0.640625 \nQ 12.796875 0.140625 7.71875 1.703125 \nL 7.71875 11.625 \nQ 12.109375 9.234375 16.796875 8.0625 \nQ 21.484375 6.890625 26.703125 6.890625 \nQ 35.15625 6.890625 40.078125 11.328125 \nQ 45.015625 15.765625 45.015625 23.390625 \nQ 45.015625 31 40.078125 35.4375 \nQ 35.15625 39.890625 26.703125 39.890625 \nQ 22.75 39.890625 18.8125 39.015625 \nQ 14.890625 38.140625 10.796875 36.28125 \nz\n\" id=\"DejaVuSans-53\"/>\n      </defs>\n      <use xlink:href=\"#DejaVuSans-53\"/>\n     </g>\n    </g>\n   </g>\n  </g>\n  <g id=\"axis3d_2\">\n   <g id=\"line2d_8\">\n    <path d=\"M 210.64668 144.32791 \nL 145.759879 210.91773 \n\" style=\"fill:none;stroke:#000000;stroke-linecap:square;stroke-width:0.8;\"/>\n   </g>\n   <g id=\"Line3DCollection_2\">\n    <path d=\"M 24.386948 75.145071 \nL 28.566245 166.878731 \nL 150.249543 206.31023 \n\" style=\"fill:none;stroke:#b0b0b0;stroke-width:0.8;\"/>\n    <path d=\"M 38.348843 64.956316 \nL 41.856316 155.73873 \nL 162.294948 193.948681 \n\" style=\"fill:none;stroke:#b0b0b0;stroke-width:0.8;\"/>\n    <path d=\"M 51.873665 55.086517 \nL 54.748199 144.932498 \nL 173.960642 181.976809 \n\" style=\"fill:none;stroke:#b0b0b0;stroke-width:0.8;\"/>\n    <path d=\"M 64.981621 45.520927 \nL 67.259526 134.445256 \nL 185.264301 170.376475 \n\" style=\"fill:none;stroke:#b0b0b0;stroke-width:0.8;\"/>\n    <path d=\"M 77.691693 36.245695 \nL 79.406902 124.263085 \nL 196.22252 159.130646 \n\" style=\"fill:none;stroke:#b0b0b0;stroke-width:0.8;\"/>\n    <path d=\"M 90.021727 27.247799 \nL 91.20598 114.372864 \nL 206.850896 148.223317 \n\" style=\"fill:none;stroke:#b0b0b0;stroke-width:0.8;\"/>\n   </g>\n   <g id=\"xtick_7\">\n    <g id=\"line2d_9\">\n     <path d=\"M 149.224115 205.977939 \nL 152.303053 206.97567 \n\" style=\"fill:none;stroke:#000000;stroke-linecap:square;stroke-width:0.8;\"/>\n    </g>\n    <g id=\"text_7\">\n     <!-- 0 -->\n     <g transform=\"translate(159.950654 227.333759)scale(0.1 -0.1)\">\n      <use xlink:href=\"#DejaVuSans-48\"/>\n     </g>\n    </g>\n   </g>\n   <g id=\"xtick_8\">\n    <g id=\"line2d_10\">\n     <path d=\"M 161.280832 193.626946 \nL 164.325762 194.59297 \n\" style=\"fill:none;stroke:#000000;stroke-linecap:square;stroke-width:0.8;\"/>\n    </g>\n    <g id=\"text_8\">\n     <!-- 1 -->\n     <g transform=\"translate(171.798298 214.74815)scale(0.1 -0.1)\">\n      <use xlink:href=\"#DejaVuSans-49\"/>\n     </g>\n    </g>\n   </g>\n   <g id=\"xtick_9\">\n    <g id=\"line2d_11\">\n     <path d=\"M 172.957639 181.665134 \nL 175.96916 182.60094 \n\" style=\"fill:none;stroke:#000000;stroke-linecap:square;stroke-width:0.8;\"/>\n    </g>\n    <g id=\"text_9\">\n     <!-- 2 -->\n     <g transform=\"translate(183.272199 202.559564)scale(0.1 -0.1)\">\n      <use xlink:href=\"#DejaVuSans-50\"/>\n     </g>\n    </g>\n   </g>\n   <g id=\"xtick_10\">\n    <g id=\"line2d_12\">\n     <path d=\"M 184.272216 170.074395 \nL 187.250917 170.981379 \n\" style=\"fill:none;stroke:#000000;stroke-linecap:square;stroke-width:0.8;\"/>\n    </g>\n    <g id=\"text_10\">\n     <!-- 3 -->\n     <g transform=\"translate(194.389769 190.749504)scale(0.1 -0.1)\">\n      <use xlink:href=\"#DejaVuSans-51\"/>\n     </g>\n    </g>\n   </g>\n   <g id=\"xtick_11\">\n    <g id=\"line2d_13\">\n     <path d=\"M 195.241159 158.837726 \nL 198.187625 159.717198 \n\" style=\"fill:none;stroke:#000000;stroke-linecap:square;stroke-width:0.8;\"/>\n    </g>\n    <g id=\"text_11\">\n     <!-- 4 -->\n     <g transform=\"translate(205.167353 179.300607)scale(0.1 -0.1)\">\n      <use xlink:href=\"#DejaVuSans-52\"/>\n     </g>\n    </g>\n   </g>\n   <g id=\"xtick_12\">\n    <g id=\"line2d_14\">\n     <path d=\"M 205.880068 147.939146 \nL 208.794875 148.79234 \n\" style=\"fill:none;stroke:#000000;stroke-linecap:square;stroke-width:0.8;\"/>\n    </g>\n    <g id=\"text_12\">\n     <!-- 5 -->\n     <g transform=\"translate(215.62031 168.196556)scale(0.1 -0.1)\">\n      <use xlink:href=\"#DejaVuSans-53\"/>\n     </g>\n    </g>\n   </g>\n  </g>\n  <g id=\"axis3d_3\">\n   <g id=\"line2d_15\">\n    <path d=\"M 210.64668 144.32791 \nL 214.758571 54.534718 \n\" style=\"fill:none;stroke:#000000;stroke-linecap:square;stroke-width:0.8;\"/>\n   </g>\n   <g id=\"Line3DCollection_3\">\n    <path d=\"M 210.851004 139.865995 \nL 95.374309 106.51522 \nL 23.39822 166.457836 \n\" style=\"fill:none;stroke:#b0b0b0;stroke-width:0.8;\"/>\n    <path d=\"M 211.798625 119.172379 \nL 95.143947 86.482329 \nL 22.377418 145.260222 \n\" style=\"fill:none;stroke:#b0b0b0;stroke-width:0.8;\"/>\n    <path d=\"M 212.765972 98.047993 \nL 94.90902 66.052526 \nL 21.334548 123.604354 \n\" style=\"fill:none;stroke:#b0b0b0;stroke-width:0.8;\"/>\n    <path d=\"M 213.753667 76.479246 \nL 94.669393 45.213899 \nL 20.268887 101.475211 \n\" style=\"fill:none;stroke:#b0b0b0;stroke-width:0.8;\"/>\n   </g>\n   <g id=\"xtick_13\">\n    <g id=\"line2d_16\">\n     <path d=\"M 209.881736 139.586061 \nL 212.791851 140.42653 \n\" style=\"fill:none;stroke:#000000;stroke-linecap:square;stroke-width:0.8;\"/>\n    </g>\n    <g id=\"text_13\">\n     <!-- 0 -->\n     <g transform=\"translate(225.945849 144.871806)scale(0.1 -0.1)\">\n      <use xlink:href=\"#DejaVuSans-48\"/>\n     </g>\n    </g>\n   </g>\n   <g id=\"xtick_14\">\n    <g id=\"line2d_17\">\n     <path d=\"M 210.818996 118.897858 \nL 213.760242 119.722081 \n\" style=\"fill:none;stroke:#000000;stroke-linecap:square;stroke-width:0.8;\"/>\n    </g>\n    <g id=\"text_14\">\n     <!-- 200 -->\n     <g transform=\"translate(220.715016 124.228412)scale(0.1 -0.1)\">\n      <use xlink:href=\"#DejaVuSans-50\"/>\n      <use x=\"63.623047\" xlink:href=\"#DejaVuSans-48\"/>\n      <use x=\"127.246094\" xlink:href=\"#DejaVuSans-48\"/>\n     </g>\n    </g>\n   </g>\n   <g id=\"xtick_15\">\n    <g id=\"line2d_18\">\n     <path d=\"M 211.775759 97.779173 \nL 214.748807 98.586288 \n\" style=\"fill:none;stroke:#000000;stroke-linecap:square;stroke-width:0.8;\"/>\n    </g>\n    <g id=\"text_15\">\n     <!-- 400 -->\n     <g transform=\"translate(221.870151 103.156906)scale(0.1 -0.1)\">\n      <use xlink:href=\"#DejaVuSans-52\"/>\n      <use x=\"63.623047\" xlink:href=\"#DejaVuSans-48\"/>\n      <use x=\"127.246094\" xlink:href=\"#DejaVuSans-48\"/>\n     </g>\n    </g>\n   </g>\n   <g id=\"xtick_16\">\n    <g id=\"line2d_19\">\n     <path d=\"M 212.75264 76.216428 \nL 215.758184 77.005528 \n\" style=\"fill:none;stroke:#000000;stroke-linecap:square;stroke-width:0.8;\"/>\n    </g>\n    <g id=\"text_16\">\n     <!-- 600 -->\n     <g transform=\"translate(223.049494 81.643831)scale(0.1 -0.1)\">\n      <defs>\n       <path d=\"M 33.015625 40.375 \nQ 26.375 40.375 22.484375 35.828125 \nQ 18.609375 31.296875 18.609375 23.390625 \nQ 18.609375 15.53125 22.484375 10.953125 \nQ 26.375 6.390625 33.015625 6.390625 \nQ 39.65625 6.390625 43.53125 10.953125 \nQ 47.40625 15.53125 47.40625 23.390625 \nQ 47.40625 31.296875 43.53125 35.828125 \nQ 39.65625 40.375 33.015625 40.375 \nz\nM 52.59375 71.296875 \nL 52.59375 62.3125 \nQ 48.875 64.0625 45.09375 64.984375 \nQ 41.3125 65.921875 37.59375 65.921875 \nQ 27.828125 65.921875 22.671875 59.328125 \nQ 17.53125 52.734375 16.796875 39.40625 \nQ 19.671875 43.65625 24.015625 45.921875 \nQ 28.375 48.1875 33.59375 48.1875 \nQ 44.578125 48.1875 50.953125 41.515625 \nQ 57.328125 34.859375 57.328125 23.390625 \nQ 57.328125 12.15625 50.6875 5.359375 \nQ 44.046875 -1.421875 33.015625 -1.421875 \nQ 20.359375 -1.421875 13.671875 8.265625 \nQ 6.984375 17.96875 6.984375 36.375 \nQ 6.984375 53.65625 15.1875 63.9375 \nQ 23.390625 74.21875 37.203125 74.21875 \nQ 40.921875 74.21875 44.703125 73.484375 \nQ 48.484375 72.75 52.59375 71.296875 \nz\n\" id=\"DejaVuSans-54\"/>\n      </defs>\n      <use xlink:href=\"#DejaVuSans-54\"/>\n      <use x=\"63.623047\" xlink:href=\"#DejaVuSans-48\"/>\n      <use x=\"127.246094\" xlink:href=\"#DejaVuSans-48\"/>\n     </g>\n    </g>\n   </g>\n  </g>\n  <g id=\"axes_1\">\n   <g id=\"Path3DCollection_1\">\n    <defs>\n     <path d=\"M 0 2.236068 \nC 0.593012 2.236068 1.161816 2.000462 1.581139 1.581139 \nC 2.000462 1.161816 2.236068 0.593012 2.236068 -0 \nC 2.236068 -0.593012 2.000462 -1.161816 1.581139 -1.581139 \nC 1.161816 -2.000462 0.593012 -2.236068 0 -2.236068 \nC -0.593012 -2.236068 -1.161816 -2.000462 -1.581139 -1.581139 \nC -2.000462 -1.161816 -2.236068 -0.593012 -2.236068 0 \nC -2.236068 0.593012 -2.000462 1.161816 -1.581139 1.581139 \nC -1.161816 2.000462 -0.593012 2.236068 0 2.236068 \nz\n\" id=\"C0_0_3a0c3dde18\"/>\n    </defs>\n    <g clip-path=\"url(#pe71d1bf790)\">\n     <use style=\"fill:#1f77b4;fill-opacity:0.3;stroke:#1f77b4;stroke-opacity:0.3;\" x=\"97.052888\" xlink:href=\"#C0_0_3a0c3dde18\" y=\"118.668953\"/>\n    </g>\n    <g clip-path=\"url(#pe71d1bf790)\">\n     <use style=\"fill:#1f77b4;fill-opacity:0.708483;stroke:#1f77b4;stroke-opacity:0.708483;\" x=\"179.84199\" xlink:href=\"#C0_0_3a0c3dde18\" y=\"75.189348\"/>\n    </g>\n    <g clip-path=\"url(#pe71d1bf790)\">\n     <use style=\"fill:#1f77b4;fill-opacity:0.846751;stroke:#1f77b4;stroke-opacity:0.846751;\" x=\"148.222583\" xlink:href=\"#C0_0_3a0c3dde18\" y=\"84.504052\"/>\n    </g>\n    <g clip-path=\"url(#pe71d1bf790)\">\n     <use style=\"fill:#1f77b4;fill-opacity:0.852993;stroke:#1f77b4;stroke-opacity:0.852993;\" x=\"88.197478\" xlink:href=\"#C0_0_3a0c3dde18\" y=\"126.399692\"/>\n    </g>\n    <g clip-path=\"url(#pe71d1bf790)\">\n     <use style=\"fill:#1f77b4;stroke:#1f77b4;\" x=\"65.845255\" xlink:href=\"#C0_0_3a0c3dde18\" y=\"146.896201\"/>\n    </g>\n   </g>\n   <g id=\"Line3DCollection_4\">\n    <path clip-path=\"url(#pe71d1bf790)\" d=\"M 35.703274 163.660961 \nL 46.782951 159.650705 \nL 58.061512 155.568463 \nL 69.544361 151.412279 \nL 81.2371 147.180127 \nL 93.145536 142.869903 \nL 105.275693 138.479428 \nL 117.633822 134.00644 \nL 130.22641 129.44859 \nL 143.060194 124.803439 \n\" style=\"fill:none;stroke:#1f77b4;stroke-width:1.5;\"/>\n    <path clip-path=\"url(#pe71d1bf790)\" d=\"M 43.084525 156.466253 \nL 54.138974 152.425221 \nL 65.390222 148.312249 \nL 76.843571 144.125396 \nL 88.504518 139.862655 \nL 100.378756 135.521943 \nL 112.472193 131.101102 \nL 124.790955 126.597892 \nL 137.341398 122.009989 \nL 150.13012 117.334982 \n\" style=\"fill:none;stroke:#1f77b4;stroke-width:1.5;\"/>\n    <path clip-path=\"url(#pe71d1bf790)\" d=\"M 50.347403 149.386928 \nL 61.375995 145.316628 \nL 72.599325 141.174458 \nL 84.022595 136.958496 \nL 95.651197 132.666753 \nL 107.490717 128.297167 \nL 119.546945 123.8476 \nL 131.825887 119.315838 \nL 144.333772 114.699579 \nL 157.077062 109.996441 \n\" style=\"fill:none;stroke:#1f77b4;stroke-width:1.5;\"/>\n    <path clip-path=\"url(#pe71d1bf790)\" d=\"M 57.494731 142.420231 \nL 68.49688 138.322112 \nL 79.691726 134.152216 \nL 91.084377 129.908641 \nL 102.680122 125.589416 \nL 114.484441 121.192502 \nL 126.503012 116.715782 \nL 138.741722 112.157064 \nL 151.206674 107.514075 \nL 163.904201 102.784455 \n\" style=\"fill:none;stroke:#1f77b4;stroke-width:1.5;\"/>\n    <path clip-path=\"url(#pe71d1bf790)\" d=\"M 64.529246 135.563496 \nL 75.5044 131.438947 \nL 86.670236 127.242738 \nL 98.031766 122.972985 \nL 109.59418 118.627739 \nL 121.362854 114.204978 \nL 133.343356 109.702611 \nL 145.541458 105.118468 \nL 157.963141 100.450302 \nL 170.614611 95.695779 \n\" style=\"fill:none;stroke:#1f77b4;stroke-width:1.5;\"/>\n    <path clip-path=\"url(#pe71d1bf790)\" d=\"M 71.453597 128.814141 \nL 82.401242 124.664496 \nL 93.537576 120.44333 \nL 104.867518 116.148777 \nL 116.396163 111.778908 \nL 128.128783 107.331722 \nL 140.070841 102.805151 \nL 152.227994 98.197048 \nL 164.606107 93.505192 \nL 177.211259 88.727278 \n\" style=\"fill:none;stroke:#1f77b4;stroke-width:1.5;\"/>\n    <path clip-path=\"url(#pe71d1bf790)\" d=\"M 78.270353 122.169662 \nL 89.190008 117.996204 \nL 100.296381 113.751383 \nL 111.594304 109.433352 \nL 123.088774 105.040201 \nL 134.784966 100.569953 \nL 146.688236 96.02056 \nL 158.804134 91.389902 \nL 171.138408 86.675781 \nL 183.697015 81.875921 \n\" style=\"fill:none;stroke:#1f77b4;stroke-width:1.5;\"/>\n    <path clip-path=\"url(#pe71d1bf790)\" d=\"M 84.982002 115.627634 \nL 95.873217 111.431595 \nL 106.949205 107.164369 \nL 118.214708 102.824129 \nL 129.674631 98.408985 \nL 141.334051 93.916981 \nL 153.198223 89.346093 \nL 165.27259 84.694223 \nL 177.562785 79.959202 \nL 190.07465 75.138778 \n\" style=\"fill:none;stroke:#1f77b4;stroke-width:1.5;\"/>\n    <path clip-path=\"url(#pe71d1bf790)\" d=\"M 91.590956 109.185705 \nL 102.453314 104.968269 \nL 113.498521 100.679839 \nL 124.731233 96.318609 \nL 136.156267 91.882707 \nL 147.778602 87.370201 \nL 159.603396 82.779088 \nL 171.635984 78.107296 \nL 183.881893 73.35268 \nL 196.346847 68.513017 \n\" style=\"fill:none;stroke:#1f77b4;stroke-width:1.5;\"/>\n    <path clip-path=\"url(#pe71d1bf790)\" d=\"M 98.099555 102.841596 \nL 108.932666 98.6039 \nL 119.946726 94.295421 \nL 131.146307 89.914369 \nL 142.536136 85.458897 \nL 154.121103 80.92709 \nL 165.906265 76.316971 \nL 177.896857 71.626492 \nL 190.098298 66.853533 \nL 202.516198 61.9959 \n\" style=\"fill:none;stroke:#1f77b4;stroke-width:1.5;\"/>\n    <path clip-path=\"url(#pe71d1bf790)\" d=\"M 35.703274 163.660961 \nL 43.084525 156.466253 \nL 50.347403 149.386928 \nL 57.494731 142.420231 \nL 64.529246 135.563496 \nL 71.453597 128.814141 \nL 78.270353 122.169662 \nL 84.982002 115.627634 \nL 91.590956 109.185705 \nL 98.099555 102.841596 \n\" style=\"fill:none;stroke:#1f77b4;stroke-width:1.5;\"/>\n    <path clip-path=\"url(#pe71d1bf790)\" d=\"M 46.782951 159.650705 \nL 54.138974 152.425221 \nL 61.375995 145.316628 \nL 68.49688 138.322112 \nL 75.5044 131.438947 \nL 82.401242 124.664496 \nL 89.190008 117.996204 \nL 95.873217 111.431595 \nL 102.453314 104.968269 \nL 108.932666 98.6039 \n\" style=\"fill:none;stroke:#1f77b4;stroke-width:1.5;\"/>\n    <path clip-path=\"url(#pe71d1bf790)\" d=\"M 58.061512 155.568463 \nL 65.390222 148.312249 \nL 72.599325 141.174458 \nL 79.691726 134.152216 \nL 86.670236 127.242738 \nL 93.537576 120.44333 \nL 100.296381 113.751383 \nL 106.949205 107.164369 \nL 113.498521 100.679839 \nL 119.946726 94.295421 \n\" style=\"fill:none;stroke:#1f77b4;stroke-width:1.5;\"/>\n    <path clip-path=\"url(#pe71d1bf790)\" d=\"M 69.544361 151.412279 \nL 76.843571 144.125396 \nL 84.022595 136.958496 \nL 91.084377 129.908641 \nL 98.031766 122.972985 \nL 104.867518 116.148777 \nL 111.594304 109.433352 \nL 118.214708 102.824129 \nL 124.731233 96.318609 \nL 131.146307 89.914369 \n\" style=\"fill:none;stroke:#1f77b4;stroke-width:1.5;\"/>\n    <path clip-path=\"url(#pe71d1bf790)\" d=\"M 81.2371 147.180127 \nL 88.504518 139.862655 \nL 95.651197 132.666753 \nL 102.680122 125.589416 \nL 109.59418 118.627739 \nL 116.396163 111.778908 \nL 123.088774 105.040201 \nL 129.674631 98.408985 \nL 136.156267 91.882707 \nL 142.536136 85.458897 \n\" style=\"fill:none;stroke:#1f77b4;stroke-width:1.5;\"/>\n    <path clip-path=\"url(#pe71d1bf790)\" d=\"M 93.145536 142.869903 \nL 100.378756 135.521943 \nL 107.490717 128.297167 \nL 114.484441 121.192502 \nL 121.362854 114.204978 \nL 128.128783 107.331722 \nL 134.784966 100.569953 \nL 141.334051 93.916981 \nL 147.778602 87.370201 \nL 154.121103 80.92709 \n\" style=\"fill:none;stroke:#1f77b4;stroke-width:1.5;\"/>\n    <path clip-path=\"url(#pe71d1bf790)\" d=\"M 105.275693 138.479428 \nL 112.472193 131.101102 \nL 119.546945 123.8476 \nL 126.503012 116.715782 \nL 133.343356 109.702611 \nL 140.070841 102.805151 \nL 146.688236 96.02056 \nL 153.198223 89.346093 \nL 159.603396 82.779088 \nL 165.906265 76.316971 \n\" style=\"fill:none;stroke:#1f77b4;stroke-width:1.5;\"/>\n    <path clip-path=\"url(#pe71d1bf790)\" d=\"M 117.633822 134.00644 \nL 124.790955 126.597892 \nL 131.825887 119.315838 \nL 138.741722 112.157064 \nL 145.541458 105.118468 \nL 152.227994 98.197048 \nL 158.804134 91.389902 \nL 165.27259 84.694223 \nL 171.635984 78.107296 \nL 177.896857 71.626492 \n\" style=\"fill:none;stroke:#1f77b4;stroke-width:1.5;\"/>\n    <path clip-path=\"url(#pe71d1bf790)\" d=\"M 130.22641 129.44859 \nL 137.341398 122.009989 \nL 144.333772 114.699579 \nL 151.206674 107.514075 \nL 157.963141 100.450302 \nL 164.606107 93.505192 \nL 171.138408 86.675781 \nL 177.562785 79.959202 \nL 183.881893 73.35268 \nL 190.098298 66.853533 \n\" style=\"fill:none;stroke:#1f77b4;stroke-width:1.5;\"/>\n    <path clip-path=\"url(#pe71d1bf790)\" d=\"M 143.060194 124.803439 \nL 150.13012 117.334982 \nL 157.077062 109.996441 \nL 163.904201 102.784455 \nL 170.614611 95.695779 \nL 177.211259 88.727278 \nL 183.697015 81.875921 \nL 190.07465 75.138778 \nL 196.346847 68.513017 \nL 202.516198 61.9959 \n\" style=\"fill:none;stroke:#1f77b4;stroke-width:1.5;\"/>\n   </g>\n  </g>\n </g>\n <defs>\n  <clipPath id=\"pe71d1bf790\">\n   <rect height=\"217.44\" width=\"217.44\" x=\"7.2\" y=\"7.2\"/>\n  </clipPath>\n </defs>\n</svg>\n",
      "image/png": "[encoded data removed]"
     },
     "metadata": {
      "needs_background": "light"
     }
    }
   ],
   "source": [
    "from mpl_toolkits import mplot3d\n",
    "%matplotlib inline\n",
    "\n",
    "eqn_y = np.array(float(a[0]) + float(a[1]) * x1 + float(a[2]) * x2)\n",
    "\n",
    "fig = plt.figure()\n",
    "ax = plt.axes(projection = \"3d\")\n",
    "\n",
    "x1lin = np.linspace(0, 5, 10)\n",
    "x2lin = np.linspace(0, 5, 10)\n",
    "\n",
    "Xlin, Ylin = np.meshgrid(x1lin, x2lin)\n",
    "Zlin = a[0] + a[1] * Xlin + a[2] * Ylin\n",
    "\n",
    "ax.scatter3D(x1, x2, y)\n",
    "ax.plot_wireframe(Xlin, Ylin, Zlin)\n",
    "\n",
    "for i in range(len(eqn_y)):\n",
    "    print(\"Predicted price for house {}: ${}\".format(i+1, round(eqn_y[i]*1000, 2)))"
   ]
  },
  {
   "cell_type": "markdown",
   "id": "loose-accident",
   "metadata": {},
   "source": [
    "<h1>Exercise 3</h1>"
   ]
  },
  {
   "cell_type": "markdown",
   "id": "returning-tutorial",
   "metadata": {},
   "source": [
    "<h2>Question 7 (Probably got the following below wrong)</h2>"
   ]
  },
  {
   "cell_type": "code",
   "execution_count": 9,
   "id": "fancy-skating",
   "metadata": {},
   "outputs": [],
   "source": [
    "# Python program for random \n",
    "# binary string generation \n",
    "  \n",
    "import random \n",
    "  \n",
    "# Function to create random binary string of length p\n",
    "def rand_key(p): \n",
    "    \n",
    "    # Variable to store in an array \n",
    "    key = []\n",
    "  \n",
    "    # Loop to find the string \n",
    "    # of desired length \n",
    "    for i in range(p): \n",
    "          \n",
    "        # randint function to generate \n",
    "        # 0, 1 randomly and add  \n",
    "        # the result into arry\n",
    "        key.append(random.randint(0, 1)) \n",
    "    return(key)"
   ]
  },
  {
   "cell_type": "code",
   "execution_count": 10,
   "id": "naval-cedar",
   "metadata": {},
   "outputs": [
    {
     "output_type": "stream",
     "name": "stdout",
     "text": [
      "u:  [1, 0, 1, 1, 1, 1]\na0.u:  1\nb0.u:  1\n"
     ]
    }
   ],
   "source": [
    "a0 = np.array([1,1,0,1,0,1])\n",
    "b0 = np.array([1,1,0,0,1,1])\n",
    "\n",
    "def random_vector(s, t):\n",
    "    u = rand_key(6)\n",
    "    # loops if either dot product doesn't equate to s or t\n",
    "    while dot_mod2(a0, u) != s or dot_mod2(b0, u) != t:\n",
    "        u = rand_key(6)\n",
    "    return u\n",
    "    \n",
    "u = random_vector(1, 1)\n",
    "\n",
    "print(\"u: \", u)\n",
    "print(\"a0.u: \", dot_mod2(a0, u))\n",
    "print(\"b0.u: \", dot_mod2(b0, u))"
   ]
  },
  {
   "cell_type": "code",
   "execution_count": 11,
   "id": "incident-restoration",
   "metadata": {},
   "outputs": [],
   "source": [
    "'''Function to check if the generated vectors fulfil the independency requirements'''\n",
    "#input two lists a & b, each contains 4 vectors\n",
    "#Return \"True\" if any 3 pairs of vectors from (a1,b1),(a2,b2),(a3,b3),(a4,b4) are linearly independent\n",
    "def check_dependency(a,b,n): \n",
    "    # \n",
    "    for v1 in range(1,n-2): #1st vector from 1 to 2\n",
    "        for v2 in range(v1+1,n-1): \n",
    "            for v3 in range(v2+1,n):\n",
    "                squareMatrix = np.vstack((a[v1], b[v1], a[v2], b[v2],a[v3], b[v3]))\n",
    "                determinant = np.linalg.det(squareMatrix) \n",
    "                if determinant == 0: #if determinant is 0, the vectors are not linearly dependent\n",
    "                    return False\n",
    "\n",
    "    # check if a0,b0 and any two random selected pairs of vectors are linearly independent\n",
    "    for v1 in range(1,n-1): #1st vector from 1 to 3\n",
    "        for v2 in range(v1+1,n):\n",
    "            squareMatrix = np.vstack((a[0], b[0], a[v1], b[v1], a[v2], b[v2]))\n",
    "            determinant = np.linalg.det(squareMatrix) \n",
    "            if determinant == 0: #if determinant is 0, the vectors are not linearly dependent\n",
    "                return False\n",
    "    print(\"Vectors are linearly independent\")\n",
    "    return True"
   ]
  },
  {
   "cell_type": "code",
   "execution_count": 12,
   "id": "operational-karma",
   "metadata": {},
   "outputs": [
    {
     "output_type": "stream",
     "name": "stdout",
     "text": [
      "Vectors are linearly independent\nva:\n [[1 1 0 1 0 1]\n [0 1 1 1 0 1]\n [1 0 1 0 0 1]\n [1 0 0 1 0 1]\n [0 1 0 1 1 0]]\nvb:\n [[1 1 0 0 1 1]\n [1 1 0 1 1 1]\n [1 0 0 1 1 0]\n [1 0 1 0 0 0]\n [0 0 1 1 1 0]]\n"
     ]
    }
   ],
   "source": [
    "# generates vectors a and b with length of n\n",
    "def gen_ab(n):\n",
    "    while True:\n",
    "        va = [a0]\n",
    "        vb = [b0]\n",
    "        for i in range(n-1):\n",
    "            va.append(rand_key(6))\n",
    "            vb.append(rand_key(6))\n",
    "        if (not check_dependency(va, vb, n)):\n",
    "            continue\n",
    "        return np.array(va), np.array(vb)\n",
    "\n",
    "va, vb = gen_ab(5)\n",
    "    \n",
    "print(\"va:\\n\", va)\n",
    "print(\"vb:\\n\", vb)"
   ]
  },
  {
   "cell_type": "code",
   "execution_count": 13,
   "id": "ordinary-imperial",
   "metadata": {},
   "outputs": [],
   "source": [
    "'''Function to converting String to binary array'''\n",
    "def str2bits(s): \n",
    "    res = ''.join(format(ord(i), 'b') for i in s) \n",
    "    bits_array = []\n",
    "    for i in res:\n",
    "        bits_array.append(int(i))\n",
    "    return bits_array"
   ]
  },
  {
   "cell_type": "code",
   "execution_count": 14,
   "id": "imperial-spread",
   "metadata": {},
   "outputs": [
    {
     "output_type": "stream",
     "name": "stdout",
     "text": [
      "[[1 0 1 0 0 0 0 1 1 0 1 1 1 1 1 1 1 0 1 0 0]\n [1 1 1 0 1 0 0 1 1 0 0 1 0 1 1 1 1 0 0 1 0]]\n"
     ]
    }
   ],
   "source": [
    "pass_bits = np.array(str2bits(\"Potter\"))\n",
    "col_n = pass_bits.shape[0]//2\n",
    "pass_bits_m = pass_bits.reshape((2, col_n))\n",
    "print(pass_bits_m)"
   ]
  },
  {
   "cell_type": "code",
   "execution_count": 15,
   "id": "civic-saint",
   "metadata": {},
   "outputs": [],
   "source": [
    "# generate ui for each s and t\n",
    "un = []\n",
    "for i in range(col_n):\n",
    "    s = pass_bits_m[0][i]\n",
    "    t = pass_bits_m[1][i]\n",
    "    un.append(random_vector(s, t))"
   ]
  },
  {
   "cell_type": "code",
   "execution_count": 16,
   "id": "grave-wisdom",
   "metadata": {},
   "outputs": [
    {
     "output_type": "stream",
     "name": "stdout",
     "text": [
      "Vectors are linearly independent\n"
     ]
    }
   ],
   "source": [
    "va, vb = gen_ab(5)"
   ]
  },
  {
   "cell_type": "code",
   "execution_count": 17,
   "id": "coated-savannah",
   "metadata": {},
   "outputs": [],
   "source": [
    "# generates all B0 to Bn and Y0 to Yn\n",
    "Bi = []\n",
    "Yi = []\n",
    "\n",
    "for i in range(col_n):\n",
    "    Bi.append(dot_mod2(va[0], un[i]))\n",
    "    Yi.append(dot_mod2(vb[0], un[i]))\n",
    "    \n",
    "Bi = np.array(Bi)\n",
    "Yi = np.array(Yi)"
   ]
  },
  {
   "cell_type": "code",
   "execution_count": 18,
   "id": "sporting-universal",
   "metadata": {},
   "outputs": [
    {
     "output_type": "stream",
     "name": "stdout",
     "text": [
      "[[0.]\n [0.]\n [0.]\n [1.]\n [0.]\n [1.]]\n[0.]\n[1.]\n"
     ]
    }
   ],
   "source": [
    "A = np.vstack([va[1],\n",
    "               vb[1],\n",
    "               va[2],\n",
    "               vb[2],\n",
    "               va[3],\n",
    "               vb[3]])\n",
    "\n",
    "b = np.vstack([Bi[1],\n",
    "               Yi[1],\n",
    "               Bi[2],\n",
    "               Yi[2],\n",
    "               Bi[3],\n",
    "               Bi[3]])\n",
    "\n",
    "u_ = linalg.solve(A, b) % 2\n",
    "print(u_)\n",
    "s_ = dot_mod2(va[0], u_)\n",
    "print(s_)\n",
    "t_ = dot_mod2(vb[0], u_)\n",
    "print(t_)"
   ]
  },
  {
   "cell_type": "code",
   "execution_count": null,
   "id": "previous-sitting",
   "metadata": {},
   "outputs": [],
   "source": []
  }
 ],
 "metadata": {
  "kernelspec": {
   "name": "python3",
   "display_name": "Python 3.9.6 64-bit"
  },
  "language_info": {
   "codemirror_mode": {
    "name": "ipython",
    "version": 3
   },
   "file_extension": ".py",
   "mimetype": "text/x-python",
   "name": "python",
   "nbconvert_exporter": "python",
   "pygments_lexer": "ipython3",
   "version": "3.9.6"
  },
  "interpreter": {
   "hash": "e7370f93d1d0cde622a1f8e1c04877d8463912d04d973331ad4851f04de6915a"
  }
 },
 "nbformat": 4,
 "nbformat_minor": 5
}
