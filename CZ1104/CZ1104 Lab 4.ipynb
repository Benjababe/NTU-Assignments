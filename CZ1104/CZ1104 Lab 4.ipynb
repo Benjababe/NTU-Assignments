{
 "metadata": {
  "language_info": {
   "codemirror_mode": {
    "name": "ipython",
    "version": 3
   },
   "file_extension": ".py",
   "mimetype": "text/x-python",
   "name": "python",
   "nbconvert_exporter": "python",
   "pygments_lexer": "ipython3",
   "version": "3.8.7"
  },
  "orig_nbformat": 2,
  "kernelspec": {
   "name": "python3",
   "display_name": "Python 3.8.7 64-bit"
  },
  "interpreter": {
   "hash": "2952e0ba2c90b025f7d930606cb26d413e240d8e0f79ff42c2b68793513020ed"
  }
 },
 "nbformat": 4,
 "nbformat_minor": 2,
 "cells": [
  {
   "cell_type": "markdown",
   "source": [
    "# Q1 Testing orthogonal sets"
   ],
   "metadata": {}
  },
  {
   "cell_type": "code",
   "execution_count": 3,
   "source": [
    "import numpy as np\r\n",
    "\r\n",
    "# gets dot product of 2 vectors v1, v2\r\n",
    "def dot_product(v1, v2):\r\n",
    "    sum = 0\r\n",
    "    for i in range(len(v1)):\r\n",
    "        sum += (v1[i] * v2[i])\r\n",
    "    return sum\r\n",
    "\r\n",
    "# checks whether vectors in set are orthogonal and prints out pairs which are not\r\n",
    "def is_orthogonal(S):\r\n",
    "    cols = S.T\r\n",
    "    i, j, not_count = 0, 0, 0\r\n",
    "\r\n",
    "    for i in range(len(cols) - 1):\r\n",
    "        for j in range(i + 1, len(cols)):\r\n",
    "            \r\n",
    "            # calculate dot product of 2 vectors\r\n",
    "            dp = dot_product(cols[i], cols[j])\r\n",
    "\r\n",
    "            # if not 0, they're not orthogonal\r\n",
    "            if not dp == 0:\r\n",
    "                not_count += 1\r\n",
    "                print(\"Vectors:\", cols[i], \"and\", cols[j], \"are not orthogonal\")\r\n",
    "        \r\n",
    "    return not_count == 0\r\n",
    "\r\n",
    "A = np.array([[-6, -3,  6,  1],\r\n",
    "              [-1,  2,  1, -6],\r\n",
    "              [ 3,  6,  3, -2],\r\n",
    "              [ 6, -3,  6, -1],\r\n",
    "              [ 2, -1,  2,  3],\r\n",
    "              [-3,  6,  3,  2],\r\n",
    "              [-2, -1,  2, -3],\r\n",
    "              [ 1,  2,  1,  6]])\r\n",
    "\r\n",
    "\r\n",
    "print(\"Columns in A are orthogonal\" if is_orthogonal(A) else \"Columns in A are not orthogonal\")"
   ],
   "outputs": [
    {
     "output_type": "stream",
     "name": "stdout",
     "text": [
      "Columns in A are orthogonal\n"
     ]
    }
   ],
   "metadata": {}
  },
  {
   "cell_type": "markdown",
   "source": [
    "### By definition, if the dot product of 2 vectors are 0, they are orthogonal. \n",
    "### The negation of which, if the dot product of 2 vectors are not 0, they must not be orthogonal."
   ],
   "metadata": {}
  },
  {
   "cell_type": "markdown",
   "source": [
    "# Q2 Orthonormalising a List L"
   ],
   "metadata": {}
  },
  {
   "cell_type": "code",
   "execution_count": 4,
   "source": [
    "# returns the normalised vector v\r\n",
    "def normalise(v):\r\n",
    "    return v / np.sqrt(dot_product(v, v))\r\n",
    "\r\n",
    "# using GS process\r\n",
    "def orthonormalise(L):\r\n",
    "    L = L.T\r\n",
    "\r\n",
    "    # new_L will hold orthonormal vectors v1 - vi\r\n",
    "    new_L = L.copy()\r\n",
    "\r\n",
    "    # skipping v1 because v1 = L1\r\n",
    "    for i in range(1, len(L)):\r\n",
    "        Li = L[i]\r\n",
    "        for j in range(0, i):\r\n",
    "            \r\n",
    "            # projection of Li onto previous vectors\r\n",
    "            top = dot_product(Li, new_L[j])\r\n",
    "            bottom = dot_product(new_L[j], new_L[j])\r\n",
    "\r\n",
    "            # in case dot product == 0, don't divide by 0\r\n",
    "            if bottom == 0:\r\n",
    "                Li *= 0\r\n",
    "            else:\r\n",
    "                sub = (top / bottom) * new_L[j]\r\n",
    "                Li -= sub\r\n",
    "        new_L[i] = Li\r\n",
    "    \r\n",
    "    return new_L.T\r\n",
    "\r\n",
    "L = np.array([[4,  8, 10],\r\n",
    "              [3,  9,  1],\r\n",
    "              [1, -5, -1],\r\n",
    "              [2, -5,  5]], dtype = \"float\")    \r\n",
    "\r\n",
    "orthonormalise(L)"
   ],
   "outputs": [
    {
     "output_type": "execute_result",
     "data": {
      "text/plain": [
       "array([[ 4.        ,  2.13333333,  3.18548799],\n",
       "       [ 3.        ,  4.6       , -3.94379152],\n",
       "       [ 1.        , -6.46666667, -3.09351048],\n",
       "       [ 2.        , -7.93333333,  1.09146653]])"
      ]
     },
     "metadata": {},
     "execution_count": 4
    }
   ],
   "metadata": {}
  },
  {
   "cell_type": "markdown",
   "source": [
    "# Q3 QR Factorisation"
   ],
   "metadata": {}
  },
  {
   "cell_type": "code",
   "execution_count": 5,
   "source": [
    "def qr_fac(A):\r\n",
    "\r\n",
    "    # start QR as empty arrays\r\n",
    "    Q, R = [], []\r\n",
    "    \r\n",
    "    # apply GS process on A\r\n",
    "    v = orthonormalise(A.copy())\r\n",
    "\r\n",
    "    # Q is a set of normalised columns of GS'd A\r\n",
    "    for i in range(len(v.T)):\r\n",
    "        vi = v.T[i]\r\n",
    "        ei = normalise(vi)\r\n",
    "        Q.append(ei)\r\n",
    "\r\n",
    "        # row vector Ri, upper triangular matrix\r\n",
    "        Ri = [0] * i\r\n",
    "\r\n",
    "        # fill in Ri values, dot_product(ei, Aj)\r\n",
    "        for j in range(i, len(v.T)):\r\n",
    "            Aj = A.T[j]\r\n",
    "            Rij = dot_product(ei, Aj)\r\n",
    "            Ri.append(Rij)\r\n",
    "        \r\n",
    "        # adds row to R\r\n",
    "        R.append(Ri)\r\n",
    "\r\n",
    "    # convert to numpy arrays\r\n",
    "    Q = np.array(Q, dtype = \"float\").T\r\n",
    "    R = np.array(R, dtype = \"float\")\r\n",
    "\r\n",
    "    return Q, R\r\n",
    "\r\n",
    "L = np.array([[4,  8, 10],\r\n",
    "              [3,  9,  1],\r\n",
    "              [1, -5, -1],\r\n",
    "              [2, -5,  5]], dtype = \"float\") \r\n",
    "\r\n",
    "Q, R = qr_fac(L)\r\n",
    "\r\n",
    "print(\"L:\\n\", L, \r\n",
    "      \"\\n\\nQ:\\n\", Q, \r\n",
    "      \"\\n\\nR:\\n\", R, \r\n",
    "      \"\\n\\nQxR:\\n\", np.matmul(Q, R))"
   ],
   "outputs": [
    {
     "output_type": "stream",
     "name": "stdout",
     "text": [
      "L:\n",
      " [[ 4.  8. 10.]\n",
      " [ 3.  9.  1.]\n",
      " [ 1. -5. -1.]\n",
      " [ 2. -5.  5.]] \n",
      "\n",
      "Q:\n",
      " [[ 0.73029674  0.18677078  0.5275409 ]\n",
      " [ 0.54772256  0.4027245  -0.6531217 ]\n",
      " [ 0.18257419 -0.56614893 -0.51230873]\n",
      " [ 0.36514837 -0.69455384  0.18075511]] \n",
      "\n",
      "R:\n",
      " [[ 5.47722558  8.03326418  9.49385766]\n",
      " [ 0.         11.42220061 -0.63618797]\n",
      " [ 0.          0.          6.0383716 ]] \n",
      "\n",
      "QxR:\n",
      " [[ 4.  8. 10.]\n",
      " [ 3.  9.  1.]\n",
      " [ 1. -5. -1.]\n",
      " [ 2. -5.  5.]]\n"
     ]
    }
   ],
   "metadata": {}
  },
  {
   "cell_type": "code",
   "execution_count": null,
   "source": [],
   "outputs": [],
   "metadata": {}
  }
 ]
}