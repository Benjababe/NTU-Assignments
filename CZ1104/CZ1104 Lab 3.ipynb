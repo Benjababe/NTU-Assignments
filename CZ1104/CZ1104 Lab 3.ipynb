{
 "cells": [
  {
   "cell_type": "code",
   "execution_count": 2,
   "source": [
    "import numpy as np"
   ],
   "outputs": [],
   "metadata": {}
  },
  {
   "cell_type": "code",
   "execution_count": 5,
   "source": [
    "#Q1 - reduce to echelon form\r\n",
    "\r\n",
    "def ref(rowlist):\r\n",
    "    new_rowlist = []\r\n",
    "    \r\n",
    "    # row indexes left to parse\r\n",
    "    rows_left = set(range(len(rowlist)))\r\n",
    "    \r\n",
    "    # col indexes\r\n",
    "    col_label_list = set(range(len(rowlist[0])))\r\n",
    "    \r\n",
    "    # loop through each column\r\n",
    "    for c in col_label_list:\r\n",
    "        # for column c, get row indexes with a nonzero at coord [r,c]\r\n",
    "        rows_with_nonzero = [r for r in rows_left if rowlist[r][c] != 0]\r\n",
    "        \r\n",
    "        # if a row exists in column c with a nonzero\r\n",
    "        if rows_with_nonzero != []:\r\n",
    "            # take the first row found as the pivot row\r\n",
    "            pivot = rows_with_nonzero[0]\r\n",
    "            \r\n",
    "            # pivot row isn't needed to be parsed anymore\r\n",
    "            rows_left.remove(pivot)\r\n",
    "            \r\n",
    "            # add pivot row to the new rowlist\r\n",
    "            new_rowlist.append(list(rowlist[pivot]))\r\n",
    "            \r\n",
    "            # perform ERO to get rid of nonzero values\r\n",
    "            for r in rows_with_nonzero[1:]:\r\n",
    "                multiplier = rowlist[r][c] / rowlist[pivot][c]\r\n",
    "                for i in range(0, len(rowlist[r])):\r\n",
    "                    rowlist[r][i] -= multiplier * rowlist[pivot][i]\r\n",
    "    \r\n",
    "    # for any leftover rows, a full row of 0s will take their place\r\n",
    "    # at the bottom of the matrix\r\n",
    "    for r in rows_left:\r\n",
    "        new_rowlist.append([0] * len(col_label_list))\r\n",
    "        \r\n",
    "    return new_rowlist\r\n",
    "    \r\n",
    "# VERY IMPORTANT TO DECLARE ARRAY AS TYPE FLOAT\r\n",
    "# VALUES WILL BE STORED AS INTEGERS IF NO TYPE IS DECLARED\r\n",
    "rowlist = np.array([[0, 2,  3, 4, 5],\r\n",
    "                    [1, 10, 0, 3, 2],\r\n",
    "                    [1, 2,  3, 4, 5],\r\n",
    "                    [0, 5,  0, 6, 7],\r\n",
    "                    [0, 0,  0, 9, 9]], dtype = \"f\")\r\n",
    "\r\n",
    "ref(rowlist)"
   ],
   "outputs": [
    {
     "output_type": "execute_result",
     "data": {
      "text/plain": [
       "[[1.0, 10.0, 0.0, 3.0, 2.0],\n",
       " [0.0, 2.0, 3.0, 4.0, 5.0],\n",
       " [0.0, 0.0, 15.0, 17.0, 23.0],\n",
       " [0.0, 0.0, 0.0, 4.5, 6.0],\n",
       " [0.0, 0.0, 0.0, 0.0, -3.0]]"
      ]
     },
     "metadata": {},
     "execution_count": 5
    }
   ],
   "metadata": {}
  },
  {
   "cell_type": "code",
   "execution_count": 10,
   "source": [
    "# Q2 - gaussian elimination over gf2\r\n",
    "\r\n",
    "def gf2elim(M):\r\n",
    "    # gets the \"independent\" matrix and number of duplicate rows\r\n",
    "    elim_M, blanks = remove_duplicates(M)\r\n",
    "    \r\n",
    "    # gets row and column lengths\r\n",
    "    row_len, col_len = elim_M.shape\r\n",
    "    \r\n",
    "    # list for reordering the matrix at the end\r\n",
    "    row_order = []\r\n",
    "    \r\n",
    "    # loops through the columns\r\n",
    "    for i in range(0, col_len):\r\n",
    "        # selects left most column\r\n",
    "        col = elim_M.T[i]\r\n",
    "\r\n",
    "        # list of rows that contain \"1\"\r\n",
    "        one_rows = []\r\n",
    "\r\n",
    "        # finds rows that have a leftmost \"1\"\r\n",
    "        for i in range(0, len(col)):\r\n",
    "            \r\n",
    "            # if col has 1, only add to one_rows if it hasn't been chosen\r\n",
    "            # as a pivot row\r\n",
    "            if col[i] == 1 and not i in row_order:\r\n",
    "                one_rows.append(i)\r\n",
    "\r\n",
    "        # pivot row shall be the first row found in the column with a 1\r\n",
    "        pivot = one_rows.pop(0) if (len(one_rows) > 0) else -1\r\n",
    "\r\n",
    "        # perform gf2 addition on rows that have 1\r\n",
    "        # but aren't the pivot row\r\n",
    "        for r in one_rows:\r\n",
    "            if not r in row_order:\r\n",
    "                elim_M = gf2add(elim_M, r, pivot)\r\n",
    "                \r\n",
    "        # add the pivot row to the row_order\r\n",
    "        if not pivot == -1:\r\n",
    "            row_order.append(pivot)\r\n",
    "        \r\n",
    "    # rearrange the matrix according to the order the algorithm\r\n",
    "    # found the pivot rows\r\n",
    "    new_M = [elim_M[r] for r in row_order]\r\n",
    "    \r\n",
    "    # adds rows of 0s for every duplicate row removed earlier\r\n",
    "    for i in range(0, blanks):\r\n",
    "        new_M.append(np.array([0] * col_len))\r\n",
    "        \r\n",
    "    return new_M\r\n",
    "    \r\n",
    "    \r\n",
    "# gf2 addition of r1 with r2 in matrix M\r\n",
    "def gf2add(Ma, r1, r2):\r\n",
    "    Ma[r1] = (Ma[r1] + Ma[r2]) % 2\r\n",
    "    return Ma\r\n",
    "\r\n",
    "# remove any duplicate rows in matrix M\r\n",
    "def remove_duplicates(M):\r\n",
    "    to_remove = []\r\n",
    "    \r\n",
    "    # finds any duplicate rows and adds the index to \"to_remove\"\r\n",
    "    for i in range(0, len(M)):\r\n",
    "        for j in range(i+1, len(M)):\r\n",
    "            if np.array_equal(M[i], M[j]) and not j in to_remove:\r\n",
    "                # inserts later rows at index 0 to prevent index\r\n",
    "                # errors when removing\r\n",
    "                to_remove.insert(0, j)\r\n",
    "                \r\n",
    "    # remove duplicate rows in matrix M\r\n",
    "    for j in to_remove:\r\n",
    "        M = np.delete(M, j, 0)\r\n",
    "    \r\n",
    "    # returns edited matrix and number of rows removed\r\n",
    "    return [M, len(to_remove)]"
   ],
   "outputs": [],
   "metadata": {}
  },
  {
   "cell_type": "code",
   "execution_count": 11,
   "source": [
    "M = np.array([[0,0,1,1],\r\n",
    "              [1,0,1,1],\r\n",
    "              [1,0,0,1],\r\n",
    "              [1,1,1,1]])\r\n",
    "              \r\n",
    "gf2elim(M)"
   ],
   "outputs": [
    {
     "output_type": "execute_result",
     "data": {
      "text/plain": [
       "[array([1, 0, 1, 1]),\n",
       " array([0, 1, 0, 0]),\n",
       " array([0, 0, 1, 1]),\n",
       " array([0, 0, 0, 1])]"
      ]
     },
     "metadata": {},
     "execution_count": 11
    }
   ],
   "metadata": {}
  },
  {
   "cell_type": "code",
   "execution_count": null,
   "source": [],
   "outputs": [],
   "metadata": {}
  }
 ],
 "metadata": {
  "kernelspec": {
   "name": "python3",
   "display_name": "Python 3.8.7 64-bit"
  },
  "language_info": {
   "codemirror_mode": {
    "name": "ipython",
    "version": 3
   },
   "file_extension": ".py",
   "mimetype": "text/x-python",
   "name": "python",
   "nbconvert_exporter": "python",
   "pygments_lexer": "ipython3",
   "version": "3.8.7"
  },
  "interpreter": {
   "hash": "2952e0ba2c90b025f7d930606cb26d413e240d8e0f79ff42c2b68793513020ed"
  }
 },
 "nbformat": 4,
 "nbformat_minor": 5
}